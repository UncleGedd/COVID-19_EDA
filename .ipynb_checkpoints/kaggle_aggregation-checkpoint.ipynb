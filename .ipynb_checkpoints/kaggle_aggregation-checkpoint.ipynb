{
 "cells": [
  {
   "cell_type": "markdown",
   "metadata": {},
   "source": [
    "## Combine my data with stuff from Kaggle"
   ]
  },
  {
   "cell_type": "code",
   "execution_count": 1,
   "metadata": {},
   "outputs": [],
   "source": [
    "import numpy as np\n",
    "import pandas as pd"
   ]
  },
  {
   "cell_type": "code",
   "execution_count": 2,
   "metadata": {},
   "outputs": [
    {
     "data": {
      "text/plain": [
       "(101, 8)"
      ]
     },
     "execution_count": 2,
     "metadata": {},
     "output_type": "execute_result"
    }
   ],
   "source": [
    "df_mine = pd.read_csv('./covid19.csv')\n",
    "df_mine.shape"
   ]
  },
  {
   "cell_type": "code",
   "execution_count": 21,
   "metadata": {},
   "outputs": [],
   "source": [
    "df_kag = pd.read_csv('./kaggle/covid19countryinfo.csv')\n",
    "df_kag.columns = ['Country', *df_kag.columns[1:]]\n",
    "df_kag = df_kag[['Country', 'tests', 'testpop', 'density', 'urbanpop', 'quarantine', 'schools', 'restrictions', 'hospibed']]\n",
    "df_kag.replace({'Korea, South': 'South Korea', 'Czechia': 'Czech Republic', 'Taiwan*': 'Taiwan', 'US': 'United States'}, inplace=True)"
   ]
  },
  {
   "cell_type": "code",
   "execution_count": 24,
   "metadata": {},
   "outputs": [
    {
     "data": {
      "text/html": [
       "<div>\n",
       "<style scoped>\n",
       "    .dataframe tbody tr th:only-of-type {\n",
       "        vertical-align: middle;\n",
       "    }\n",
       "\n",
       "    .dataframe tbody tr th {\n",
       "        vertical-align: top;\n",
       "    }\n",
       "\n",
       "    .dataframe thead th {\n",
       "        text-align: right;\n",
       "    }\n",
       "</style>\n",
       "<table border=\"1\" class=\"dataframe\">\n",
       "  <thead>\n",
       "    <tr style=\"text-align: right;\">\n",
       "      <th></th>\n",
       "      <th>Country</th>\n",
       "      <th>tests</th>\n",
       "      <th>testpop</th>\n",
       "      <th>density</th>\n",
       "      <th>urbanpop</th>\n",
       "      <th>quarantine</th>\n",
       "      <th>schools</th>\n",
       "      <th>restrictions</th>\n",
       "      <th>hospibed</th>\n",
       "      <th>Total Infected</th>\n",
       "      <th>GDP 2018</th>\n",
       "      <th>Crime Index</th>\n",
       "      <th>Population 2020</th>\n",
       "      <th>Smoking 2016</th>\n",
       "      <th>Females 2018</th>\n",
       "      <th>Median Age</th>\n",
       "    </tr>\n",
       "  </thead>\n",
       "  <tbody>\n",
       "    <tr>\n",
       "      <th>0</th>\n",
       "      <td>Albania</td>\n",
       "      <td>NaN</td>\n",
       "      <td>NaN</td>\n",
       "      <td>105.0</td>\n",
       "      <td>63.0</td>\n",
       "      <td>NaN</td>\n",
       "      <td>NaN</td>\n",
       "      <td>NaN</td>\n",
       "      <td>2.9</td>\n",
       "      <td>624</td>\n",
       "      <td>1.510250e+10</td>\n",
       "      <td>40.02</td>\n",
       "      <td>2877.797</td>\n",
       "      <td>28.7</td>\n",
       "      <td>49.063095</td>\n",
       "      <td>32.9</td>\n",
       "    </tr>\n",
       "    <tr>\n",
       "      <th>1</th>\n",
       "      <td>Algeria</td>\n",
       "      <td>NaN</td>\n",
       "      <td>NaN</td>\n",
       "      <td>18.0</td>\n",
       "      <td>73.0</td>\n",
       "      <td>NaN</td>\n",
       "      <td>NaN</td>\n",
       "      <td>NaN</td>\n",
       "      <td>1.9</td>\n",
       "      <td>991</td>\n",
       "      <td>1.737580e+11</td>\n",
       "      <td>54.41</td>\n",
       "      <td>43851.044</td>\n",
       "      <td>15.6</td>\n",
       "      <td>49.484268</td>\n",
       "      <td>28.1</td>\n",
       "    </tr>\n",
       "    <tr>\n",
       "      <th>2</th>\n",
       "      <td>Argentina</td>\n",
       "      <td>NaN</td>\n",
       "      <td>NaN</td>\n",
       "      <td>17.0</td>\n",
       "      <td>93.0</td>\n",
       "      <td>3/20/2020</td>\n",
       "      <td>NaN</td>\n",
       "      <td>NaN</td>\n",
       "      <td>5.0</td>\n",
       "      <td>1013</td>\n",
       "      <td>5.198715e+11</td>\n",
       "      <td>62.96</td>\n",
       "      <td>45195.774</td>\n",
       "      <td>21.8</td>\n",
       "      <td>51.237348</td>\n",
       "      <td>31.7</td>\n",
       "    </tr>\n",
       "    <tr>\n",
       "      <th>3</th>\n",
       "      <td>Armenia</td>\n",
       "      <td>694.0</td>\n",
       "      <td>4269.802594</td>\n",
       "      <td>104.0</td>\n",
       "      <td>63.0</td>\n",
       "      <td>NaN</td>\n",
       "      <td>NaN</td>\n",
       "      <td>NaN</td>\n",
       "      <td>4.2</td>\n",
       "      <td>886</td>\n",
       "      <td>1.243309e+10</td>\n",
       "      <td>20.78</td>\n",
       "      <td>2963.243</td>\n",
       "      <td>24.1</td>\n",
       "      <td>52.956577</td>\n",
       "      <td>35.1</td>\n",
       "    </tr>\n",
       "    <tr>\n",
       "      <th>4</th>\n",
       "      <td>Australia</td>\n",
       "      <td>31635.0</td>\n",
       "      <td>806.065560</td>\n",
       "      <td>3.0</td>\n",
       "      <td>86.0</td>\n",
       "      <td>NaN</td>\n",
       "      <td>NaN</td>\n",
       "      <td>3/23/2020</td>\n",
       "      <td>3.8</td>\n",
       "      <td>7381</td>\n",
       "      <td>1.433904e+12</td>\n",
       "      <td>42.70</td>\n",
       "      <td>25499.884</td>\n",
       "      <td>14.7</td>\n",
       "      <td>50.199623</td>\n",
       "      <td>38.7</td>\n",
       "    </tr>\n",
       "  </tbody>\n",
       "</table>\n",
       "</div>"
      ],
      "text/plain": [
       "     Country    tests      testpop  density  urbanpop quarantine schools  \\\n",
       "0    Albania      NaN          NaN    105.0      63.0        NaN     NaN   \n",
       "1    Algeria      NaN          NaN     18.0      73.0        NaN     NaN   \n",
       "2  Argentina      NaN          NaN     17.0      93.0  3/20/2020     NaN   \n",
       "3    Armenia    694.0  4269.802594    104.0      63.0        NaN     NaN   \n",
       "4  Australia  31635.0   806.065560      3.0      86.0        NaN     NaN   \n",
       "\n",
       "  restrictions  hospibed  Total Infected      GDP 2018  Crime Index  \\\n",
       "0          NaN       2.9             624  1.510250e+10        40.02   \n",
       "1          NaN       1.9             991  1.737580e+11        54.41   \n",
       "2          NaN       5.0            1013  5.198715e+11        62.96   \n",
       "3          NaN       4.2             886  1.243309e+10        20.78   \n",
       "4    3/23/2020       3.8            7381  1.433904e+12        42.70   \n",
       "\n",
       "   Population 2020  Smoking 2016  Females 2018  Median Age  \n",
       "0         2877.797          28.7     49.063095        32.9  \n",
       "1        43851.044          15.6     49.484268        28.1  \n",
       "2        45195.774          21.8     51.237348        31.7  \n",
       "3         2963.243          24.1     52.956577        35.1  \n",
       "4        25499.884          14.7     50.199623        38.7  "
      ]
     },
     "execution_count": 24,
     "metadata": {},
     "output_type": "execute_result"
    }
   ],
   "source": [
    "df = df_kag.merge(df_mine, how=\"inner\", on=\"Country\")\n",
    "df.head()"
   ]
  },
  {
   "cell_type": "code",
   "execution_count": 28,
   "metadata": {},
   "outputs": [
    {
     "data": {
      "text/plain": [
       "(97, 16)"
      ]
     },
     "execution_count": 28,
     "metadata": {},
     "output_type": "execute_result"
    }
   ],
   "source": [
    "df.columns = ['Country', 'Tests', 'Test Pop', 'Density', 'Urban Pop', 'Quarantine', 'Schools', 'Restrictions', 'Hospital Bed', *df_mine.columns[1:]]\n",
    "df.shape"
   ]
  },
  {
   "cell_type": "code",
   "execution_count": 29,
   "metadata": {},
   "outputs": [],
   "source": [
    "# data cleaning and summing total events by country\n",
    "def preprocess_summation(df, description):\n",
    "    df = df.drop(['Province/State', 'Lat', 'Long'], axis=1).groupby(['Country/Region']).sum().reset_index()\n",
    "    col_name = 'Total' + ' ' + description\n",
    "    df[col_name] = df.apply(lambda r: sum(r[1:]), axis=1)\n",
    "    df = df[['Country/Region', col_name]]\n",
    "    df.columns = ['Country', col_name]\n",
    "    df.replace({'Korea, South': 'South Korea', 'Czechia': 'Czech Republic', 'Taiwan*': 'Taiwan', 'US': 'United States'}, inplace=True)\n",
    "    return df"
   ]
  },
  {
   "cell_type": "code",
   "execution_count": null,
   "metadata": {},
   "outputs": [],
   "source": []
  }
 ],
 "metadata": {
  "kernelspec": {
   "display_name": "Python 3",
   "language": "python",
   "name": "python3"
  },
  "language_info": {
   "codemirror_mode": {
    "name": "ipython",
    "version": 3
   },
   "file_extension": ".py",
   "mimetype": "text/x-python",
   "name": "python",
   "nbconvert_exporter": "python",
   "pygments_lexer": "ipython3",
   "version": "3.7.6"
  }
 },
 "nbformat": 4,
 "nbformat_minor": 4
}
