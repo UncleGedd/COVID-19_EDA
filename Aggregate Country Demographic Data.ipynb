{
 "cells": [
  {
   "cell_type": "code",
   "execution_count": 21,
   "metadata": {},
   "outputs": [],
   "source": [
    "import numpy as np\n",
    "import pandas as pd\n",
    "\n",
    "pd.set_option('display.max_columns', None)"
   ]
  },
  {
   "cell_type": "markdown",
   "metadata": {},
   "source": [
    "## Aggregate data from multiple sources"
   ]
  },
  {
   "cell_type": "markdown",
   "metadata": {},
   "source": [
    "### Johns Hopkins COVID-19 data"
   ]
  },
  {
   "cell_type": "code",
   "execution_count": 22,
   "metadata": {},
   "outputs": [],
   "source": [
    "# data cleaning and summing total events by country\n",
    "def preprocess_summation(df, description):\n",
    "    df = df.drop(['Province/State', 'Lat', 'Long'], axis=1).groupby(['Country/Region']).sum().reset_index()\n",
    "    col_name = 'Total' + ' ' + description\n",
    "    df[col_name] = df.apply(lambda r: r[-1], axis=1)\n",
    "    df = df[['Country/Region', col_name]]\n",
    "    df.columns = ['Country', col_name]\n",
    "    df.replace({'Korea, South': 'South Korea', 'Czechia': 'Czech Republic', 'Taiwan*': 'Taiwan', 'US': 'United States'}, inplace=True)\n",
    "    return df"
   ]
  },
  {
   "cell_type": "code",
   "execution_count": 23,
   "metadata": {},
   "outputs": [
    {
     "data": {
      "text/html": [
       "<div>\n",
       "<style scoped>\n",
       "    .dataframe tbody tr th:only-of-type {\n",
       "        vertical-align: middle;\n",
       "    }\n",
       "\n",
       "    .dataframe tbody tr th {\n",
       "        vertical-align: top;\n",
       "    }\n",
       "\n",
       "    .dataframe thead th {\n",
       "        text-align: right;\n",
       "    }\n",
       "</style>\n",
       "<table border=\"1\" class=\"dataframe\">\n",
       "  <thead>\n",
       "    <tr style=\"text-align: right;\">\n",
       "      <th></th>\n",
       "      <th>Country</th>\n",
       "      <th>Total Infected</th>\n",
       "    </tr>\n",
       "  </thead>\n",
       "  <tbody>\n",
       "    <tr>\n",
       "      <th>0</th>\n",
       "      <td>Afghanistan</td>\n",
       "      <td>237</td>\n",
       "    </tr>\n",
       "    <tr>\n",
       "      <th>1</th>\n",
       "      <td>Albania</td>\n",
       "      <td>259</td>\n",
       "    </tr>\n",
       "    <tr>\n",
       "      <th>2</th>\n",
       "      <td>Algeria</td>\n",
       "      <td>847</td>\n",
       "    </tr>\n",
       "    <tr>\n",
       "      <th>3</th>\n",
       "      <td>Andorra</td>\n",
       "      <td>390</td>\n",
       "    </tr>\n",
       "    <tr>\n",
       "      <th>4</th>\n",
       "      <td>Angola</td>\n",
       "      <td>8</td>\n",
       "    </tr>\n",
       "  </tbody>\n",
       "</table>\n",
       "</div>"
      ],
      "text/plain": [
       "       Country  Total Infected\n",
       "0  Afghanistan             237\n",
       "1      Albania             259\n",
       "2      Algeria             847\n",
       "3      Andorra             390\n",
       "4       Angola               8"
      ]
     },
     "execution_count": 23,
     "metadata": {},
     "output_type": "execute_result"
    }
   ],
   "source": [
    "df_confirmed = pd.read_csv('./csse_covid_19_data/csse_covid_19_time_series/time_series_covid19_confirmed_global.csv')\n",
    "total_infections = preprocess_summation(df_confirmed, 'Infected')\n",
    "total_infections.head()"
   ]
  },
  {
   "cell_type": "markdown",
   "metadata": {},
   "source": [
    "### Import 2018 GDP data\n",
    "https://data.worldbank.org/indicator/NY.GDP.MKTP.CD"
   ]
  },
  {
   "cell_type": "code",
   "execution_count": 24,
   "metadata": {},
   "outputs": [
    {
     "data": {
      "text/plain": [
       "(264, 2)"
      ]
     },
     "execution_count": 24,
     "metadata": {},
     "output_type": "execute_result"
    }
   ],
   "source": [
    "df_gdp = pd.read_csv('./outside_data/GDP.csv')\n",
    "df_gdp = df_gdp[['Country Name', '2018']]\n",
    "df_gdp.columns = ['Country', 'GDP 2018']\n",
    "df_gdp.replace({'Korea, Rep.': 'South Korea'}, inplace=True)\n",
    "df_gdp.shape"
   ]
  },
  {
   "cell_type": "code",
   "execution_count": 25,
   "metadata": {},
   "outputs": [],
   "source": [
    "df = total_infections.merge(df_gdp, how='inner', on='Country')"
   ]
  },
  {
   "cell_type": "markdown",
   "metadata": {},
   "source": [
    "### Crime and Population data\n",
    "https://worldpopulationreview.com/countries/crime-rate-by-country/"
   ]
  },
  {
   "cell_type": "code",
   "execution_count": 26,
   "metadata": {},
   "outputs": [],
   "source": [
    "df_crime = pd.read_csv('./outside_data/crime_pop.csv', header=0, names=['Country', 'Crime Index', 'Population 2020'])\n",
    "df = df.merge(df_crime, how='inner', on='Country')"
   ]
  },
  {
   "cell_type": "markdown",
   "metadata": {},
   "source": [
    "### Smoking data\n",
    "https://ourworldindata.org/smoking#prevalence-of-smoking-across-the-world  \n",
    "Percentage of country aged 15+ who smoke"
   ]
  },
  {
   "cell_type": "code",
   "execution_count": 27,
   "metadata": {},
   "outputs": [
    {
     "data": {
      "text/plain": [
       "(186, 2)"
      ]
     },
     "execution_count": 27,
     "metadata": {},
     "output_type": "execute_result"
    }
   ],
   "source": [
    "df_smoke = pd.read_csv('./outside_data/smoking.csv', header=0, names=['Country', 'Code', 'Year', 'Smoking 2016'])\n",
    "df_smoke = df_smoke[df_smoke.apply(lambda r: r['Year'] == 2016, axis=1)]\n",
    "df_smoke.drop(['Code', 'Year'], axis=1, inplace=True)\n",
    "df_smoke.shape"
   ]
  },
  {
   "cell_type": "code",
   "execution_count": 28,
   "metadata": {},
   "outputs": [],
   "source": [
    "df = df.merge(df_smoke, how='inner', on='Country')"
   ]
  },
  {
   "cell_type": "markdown",
   "metadata": {},
   "source": [
    "### Gender data\n",
    "https://data.worldbank.org/indicator/SP.POP.TOTL.FE.ZS  \n",
    "Percentage of females in 2018"
   ]
  },
  {
   "cell_type": "code",
   "execution_count": 29,
   "metadata": {},
   "outputs": [],
   "source": [
    "df_gender = pd.read_csv('./outside_data/gender.csv')\n",
    "df_gender = df_gender[['Country Name', '2018']]\n",
    "df_gender.columns = ['Country', 'Females 2018']\n",
    "df_gender.replace({'Korea, Rep.': 'South Korea'}, inplace=True)"
   ]
  },
  {
   "cell_type": "code",
   "execution_count": 30,
   "metadata": {},
   "outputs": [],
   "source": [
    "df = df.merge(df_gender, how='inner', on='Country')"
   ]
  },
  {
   "cell_type": "markdown",
   "metadata": {},
   "source": [
    "### Age data\n",
    "https://worldpopulationreview.com/countries/median-age/  \n",
    "Median age"
   ]
  },
  {
   "cell_type": "code",
   "execution_count": 31,
   "metadata": {},
   "outputs": [
    {
     "data": {
      "text/plain": [
       "(214, 2)"
      ]
     },
     "execution_count": 31,
     "metadata": {},
     "output_type": "execute_result"
    }
   ],
   "source": [
    "df_age = pd.read_csv('./outside_data/age.csv')\n",
    "df_age = df_age[['Place', 'Median']]\n",
    "df_age.columns = ['Country', 'Median Age']\n",
    "df_age.shape"
   ]
  },
  {
   "cell_type": "code",
   "execution_count": 32,
   "metadata": {},
   "outputs": [
    {
     "data": {
      "text/html": [
       "<div>\n",
       "<style scoped>\n",
       "    .dataframe tbody tr th:only-of-type {\n",
       "        vertical-align: middle;\n",
       "    }\n",
       "\n",
       "    .dataframe tbody tr th {\n",
       "        vertical-align: top;\n",
       "    }\n",
       "\n",
       "    .dataframe thead th {\n",
       "        text-align: right;\n",
       "    }\n",
       "</style>\n",
       "<table border=\"1\" class=\"dataframe\">\n",
       "  <thead>\n",
       "    <tr style=\"text-align: right;\">\n",
       "      <th></th>\n",
       "      <th>Country</th>\n",
       "      <th>Total Infected</th>\n",
       "      <th>GDP 2018</th>\n",
       "      <th>Crime Index</th>\n",
       "      <th>Population 2020</th>\n",
       "      <th>Smoking 2016</th>\n",
       "      <th>Females 2018</th>\n",
       "      <th>Median Age</th>\n",
       "    </tr>\n",
       "  </thead>\n",
       "  <tbody>\n",
       "    <tr>\n",
       "      <th>0</th>\n",
       "      <td>Albania</td>\n",
       "      <td>259</td>\n",
       "      <td>1.510250e+10</td>\n",
       "      <td>40.02</td>\n",
       "      <td>2877.797</td>\n",
       "      <td>28.7</td>\n",
       "      <td>49.063095</td>\n",
       "      <td>32.9</td>\n",
       "    </tr>\n",
       "    <tr>\n",
       "      <th>1</th>\n",
       "      <td>Algeria</td>\n",
       "      <td>847</td>\n",
       "      <td>1.737580e+11</td>\n",
       "      <td>54.41</td>\n",
       "      <td>43851.044</td>\n",
       "      <td>15.6</td>\n",
       "      <td>49.484268</td>\n",
       "      <td>28.1</td>\n",
       "    </tr>\n",
       "    <tr>\n",
       "      <th>2</th>\n",
       "      <td>Argentina</td>\n",
       "      <td>1054</td>\n",
       "      <td>5.198715e+11</td>\n",
       "      <td>62.96</td>\n",
       "      <td>45195.774</td>\n",
       "      <td>21.8</td>\n",
       "      <td>51.237348</td>\n",
       "      <td>31.7</td>\n",
       "    </tr>\n",
       "    <tr>\n",
       "      <th>3</th>\n",
       "      <td>Armenia</td>\n",
       "      <td>571</td>\n",
       "      <td>1.243309e+10</td>\n",
       "      <td>20.78</td>\n",
       "      <td>2963.243</td>\n",
       "      <td>24.1</td>\n",
       "      <td>52.956577</td>\n",
       "      <td>35.1</td>\n",
       "    </tr>\n",
       "    <tr>\n",
       "      <th>4</th>\n",
       "      <td>Australia</td>\n",
       "      <td>4862</td>\n",
       "      <td>1.433904e+12</td>\n",
       "      <td>42.70</td>\n",
       "      <td>25499.884</td>\n",
       "      <td>14.7</td>\n",
       "      <td>50.199623</td>\n",
       "      <td>38.7</td>\n",
       "    </tr>\n",
       "  </tbody>\n",
       "</table>\n",
       "</div>"
      ],
      "text/plain": [
       "     Country  Total Infected      GDP 2018  Crime Index  Population 2020  \\\n",
       "0    Albania             259  1.510250e+10        40.02         2877.797   \n",
       "1    Algeria             847  1.737580e+11        54.41        43851.044   \n",
       "2  Argentina            1054  5.198715e+11        62.96        45195.774   \n",
       "3    Armenia             571  1.243309e+10        20.78         2963.243   \n",
       "4  Australia            4862  1.433904e+12        42.70        25499.884   \n",
       "\n",
       "   Smoking 2016  Females 2018  Median Age  \n",
       "0          28.7     49.063095        32.9  \n",
       "1          15.6     49.484268        28.1  \n",
       "2          21.8     51.237348        31.7  \n",
       "3          24.1     52.956577        35.1  \n",
       "4          14.7     50.199623        38.7  "
      ]
     },
     "execution_count": 32,
     "metadata": {},
     "output_type": "execute_result"
    }
   ],
   "source": [
    "df = df.merge(df_age, how='inner', on='Country')\n",
    "df.head()"
   ]
  },
  {
   "cell_type": "code",
   "execution_count": 33,
   "metadata": {},
   "outputs": [],
   "source": [
    "# df.to_csv('covid19.csv', index=False)"
   ]
  },
  {
   "cell_type": "markdown",
   "metadata": {},
   "source": [
    "## Merge with Kaggle"
   ]
  },
  {
   "cell_type": "code",
   "execution_count": 34,
   "metadata": {},
   "outputs": [],
   "source": [
    "# df_kag = pd.read_csv('./kaggle/covid19countryinfo.csv')\n",
    "# df_kag\n",
    "# df_kag.columns = ['Region', 'Country', *df_kag.columns[2:]]\n",
    "# df_kag\n",
    "# df_kag = df_kag[['Country', 'density', 'urbanpop', 'quarantine', 'schools', 'publicplace', 'gatheringlimit', 'nonessential', 'smokers', 'hospibed', 'sex0', 'sex14', 'sex25', 'sex54', 'sex64', 'sex65plus', 'sexratio', 'lung', 'femalelung', 'malelung', 'healthexp', 'firstcase']]\n",
    "# df_kag.replace({'Korea, South': 'South Korea', 'Czechia': 'Czech Republic', 'Taiwan*': 'Taiwan', 'US': 'United States'}, inplace=True)"
   ]
  },
  {
   "cell_type": "code",
   "execution_count": 35,
   "metadata": {},
   "outputs": [],
   "source": [
    "# df = df_kag.merge(df, how=\"inner\", on=\"Country\")\n",
    "# df.head()"
   ]
  },
  {
   "cell_type": "code",
   "execution_count": 36,
   "metadata": {},
   "outputs": [],
   "source": [
    "df_deaths = pd.read_csv('./csse_covid_19_data/csse_covid_19_time_series/time_series_covid19_deaths_global.csv')\n",
    "total_deaths = preprocess_summation(df_deaths, 'Deaths')\n",
    "df = df.merge(total_deaths, how='inner', on='Country')"
   ]
  },
  {
   "cell_type": "code",
   "execution_count": 37,
   "metadata": {},
   "outputs": [
    {
     "data": {
      "text/html": [
       "<div>\n",
       "<style scoped>\n",
       "    .dataframe tbody tr th:only-of-type {\n",
       "        vertical-align: middle;\n",
       "    }\n",
       "\n",
       "    .dataframe tbody tr th {\n",
       "        vertical-align: top;\n",
       "    }\n",
       "\n",
       "    .dataframe thead th {\n",
       "        text-align: right;\n",
       "    }\n",
       "</style>\n",
       "<table border=\"1\" class=\"dataframe\">\n",
       "  <thead>\n",
       "    <tr style=\"text-align: right;\">\n",
       "      <th></th>\n",
       "      <th>Country</th>\n",
       "      <th>Total Infected</th>\n",
       "      <th>GDP 2018</th>\n",
       "      <th>Crime Index</th>\n",
       "      <th>Population 2020</th>\n",
       "      <th>Smoking 2016</th>\n",
       "      <th>Females 2018</th>\n",
       "      <th>Median Age</th>\n",
       "      <th>Total Deaths</th>\n",
       "      <th>Total Recovered</th>\n",
       "    </tr>\n",
       "  </thead>\n",
       "  <tbody>\n",
       "    <tr>\n",
       "      <th>0</th>\n",
       "      <td>Albania</td>\n",
       "      <td>259</td>\n",
       "      <td>1.510250e+10</td>\n",
       "      <td>40.02</td>\n",
       "      <td>2877.797</td>\n",
       "      <td>28.7</td>\n",
       "      <td>49.063095</td>\n",
       "      <td>32.9</td>\n",
       "      <td>15</td>\n",
       "      <td>67</td>\n",
       "    </tr>\n",
       "    <tr>\n",
       "      <th>1</th>\n",
       "      <td>Algeria</td>\n",
       "      <td>847</td>\n",
       "      <td>1.737580e+11</td>\n",
       "      <td>54.41</td>\n",
       "      <td>43851.044</td>\n",
       "      <td>15.6</td>\n",
       "      <td>49.484268</td>\n",
       "      <td>28.1</td>\n",
       "      <td>58</td>\n",
       "      <td>61</td>\n",
       "    </tr>\n",
       "    <tr>\n",
       "      <th>2</th>\n",
       "      <td>Argentina</td>\n",
       "      <td>1054</td>\n",
       "      <td>5.198715e+11</td>\n",
       "      <td>62.96</td>\n",
       "      <td>45195.774</td>\n",
       "      <td>21.8</td>\n",
       "      <td>51.237348</td>\n",
       "      <td>31.7</td>\n",
       "      <td>28</td>\n",
       "      <td>248</td>\n",
       "    </tr>\n",
       "    <tr>\n",
       "      <th>3</th>\n",
       "      <td>Armenia</td>\n",
       "      <td>571</td>\n",
       "      <td>1.243309e+10</td>\n",
       "      <td>20.78</td>\n",
       "      <td>2963.243</td>\n",
       "      <td>24.1</td>\n",
       "      <td>52.956577</td>\n",
       "      <td>35.1</td>\n",
       "      <td>4</td>\n",
       "      <td>31</td>\n",
       "    </tr>\n",
       "    <tr>\n",
       "      <th>4</th>\n",
       "      <td>Australia</td>\n",
       "      <td>4862</td>\n",
       "      <td>1.433904e+12</td>\n",
       "      <td>42.70</td>\n",
       "      <td>25499.884</td>\n",
       "      <td>14.7</td>\n",
       "      <td>50.199623</td>\n",
       "      <td>38.7</td>\n",
       "      <td>20</td>\n",
       "      <td>422</td>\n",
       "    </tr>\n",
       "  </tbody>\n",
       "</table>\n",
       "</div>"
      ],
      "text/plain": [
       "     Country  Total Infected      GDP 2018  Crime Index  Population 2020  \\\n",
       "0    Albania             259  1.510250e+10        40.02         2877.797   \n",
       "1    Algeria             847  1.737580e+11        54.41        43851.044   \n",
       "2  Argentina            1054  5.198715e+11        62.96        45195.774   \n",
       "3    Armenia             571  1.243309e+10        20.78         2963.243   \n",
       "4  Australia            4862  1.433904e+12        42.70        25499.884   \n",
       "\n",
       "   Smoking 2016  Females 2018  Median Age  Total Deaths  Total Recovered  \n",
       "0          28.7     49.063095        32.9            15               67  \n",
       "1          15.6     49.484268        28.1            58               61  \n",
       "2          21.8     51.237348        31.7            28              248  \n",
       "3          24.1     52.956577        35.1             4               31  \n",
       "4          14.7     50.199623        38.7            20              422  "
      ]
     },
     "execution_count": 37,
     "metadata": {},
     "output_type": "execute_result"
    }
   ],
   "source": [
    "df_recovered = pd.read_csv('./csse_covid_19_data/csse_covid_19_time_series/time_series_covid19_recovered_global.csv')\n",
    "total_recover = preprocess_summation(df_recovered, 'Recovered')\n",
    "df = df.merge(total_recover, how='inner', on='Country')\n",
    "df.head()"
   ]
  },
  {
   "cell_type": "code",
   "execution_count": 38,
   "metadata": {},
   "outputs": [
    {
     "data": {
      "text/html": [
       "<div>\n",
       "<style scoped>\n",
       "    .dataframe tbody tr th:only-of-type {\n",
       "        vertical-align: middle;\n",
       "    }\n",
       "\n",
       "    .dataframe tbody tr th {\n",
       "        vertical-align: top;\n",
       "    }\n",
       "\n",
       "    .dataframe thead th {\n",
       "        text-align: right;\n",
       "    }\n",
       "</style>\n",
       "<table border=\"1\" class=\"dataframe\">\n",
       "  <thead>\n",
       "    <tr style=\"text-align: right;\">\n",
       "      <th></th>\n",
       "      <th>Country</th>\n",
       "      <th>Total Infected</th>\n",
       "      <th>GDP 2018</th>\n",
       "      <th>Crime Index</th>\n",
       "      <th>Population 2020</th>\n",
       "      <th>Smoking 2016</th>\n",
       "      <th>Females 2018</th>\n",
       "      <th>Median Age</th>\n",
       "      <th>Total Deaths</th>\n",
       "      <th>Total Recovered</th>\n",
       "    </tr>\n",
       "  </thead>\n",
       "  <tbody>\n",
       "    <tr>\n",
       "      <th>0</th>\n",
       "      <td>Albania</td>\n",
       "      <td>259</td>\n",
       "      <td>1.510250e+10</td>\n",
       "      <td>40.02</td>\n",
       "      <td>2877.797</td>\n",
       "      <td>28.7</td>\n",
       "      <td>49.063095</td>\n",
       "      <td>32.9</td>\n",
       "      <td>15</td>\n",
       "      <td>67</td>\n",
       "    </tr>\n",
       "    <tr>\n",
       "      <th>1</th>\n",
       "      <td>Algeria</td>\n",
       "      <td>847</td>\n",
       "      <td>1.737580e+11</td>\n",
       "      <td>54.41</td>\n",
       "      <td>43851.044</td>\n",
       "      <td>15.6</td>\n",
       "      <td>49.484268</td>\n",
       "      <td>28.1</td>\n",
       "      <td>58</td>\n",
       "      <td>61</td>\n",
       "    </tr>\n",
       "    <tr>\n",
       "      <th>2</th>\n",
       "      <td>Argentina</td>\n",
       "      <td>1054</td>\n",
       "      <td>5.198715e+11</td>\n",
       "      <td>62.96</td>\n",
       "      <td>45195.774</td>\n",
       "      <td>21.8</td>\n",
       "      <td>51.237348</td>\n",
       "      <td>31.7</td>\n",
       "      <td>28</td>\n",
       "      <td>248</td>\n",
       "    </tr>\n",
       "    <tr>\n",
       "      <th>3</th>\n",
       "      <td>Armenia</td>\n",
       "      <td>571</td>\n",
       "      <td>1.243309e+10</td>\n",
       "      <td>20.78</td>\n",
       "      <td>2963.243</td>\n",
       "      <td>24.1</td>\n",
       "      <td>52.956577</td>\n",
       "      <td>35.1</td>\n",
       "      <td>4</td>\n",
       "      <td>31</td>\n",
       "    </tr>\n",
       "    <tr>\n",
       "      <th>4</th>\n",
       "      <td>Australia</td>\n",
       "      <td>4862</td>\n",
       "      <td>1.433904e+12</td>\n",
       "      <td>42.70</td>\n",
       "      <td>25499.884</td>\n",
       "      <td>14.7</td>\n",
       "      <td>50.199623</td>\n",
       "      <td>38.7</td>\n",
       "      <td>20</td>\n",
       "      <td>422</td>\n",
       "    </tr>\n",
       "  </tbody>\n",
       "</table>\n",
       "</div>"
      ],
      "text/plain": [
       "     Country  Total Infected      GDP 2018  Crime Index  Population 2020  \\\n",
       "0    Albania             259  1.510250e+10        40.02         2877.797   \n",
       "1    Algeria             847  1.737580e+11        54.41        43851.044   \n",
       "2  Argentina            1054  5.198715e+11        62.96        45195.774   \n",
       "3    Armenia             571  1.243309e+10        20.78         2963.243   \n",
       "4  Australia            4862  1.433904e+12        42.70        25499.884   \n",
       "\n",
       "   Smoking 2016  Females 2018  Median Age  Total Deaths  Total Recovered  \n",
       "0          28.7     49.063095        32.9            15               67  \n",
       "1          15.6     49.484268        28.1            58               61  \n",
       "2          21.8     51.237348        31.7            28              248  \n",
       "3          24.1     52.956577        35.1             4               31  \n",
       "4          14.7     50.199623        38.7            20              422  "
      ]
     },
     "execution_count": 38,
     "metadata": {},
     "output_type": "execute_result"
    }
   ],
   "source": [
    "# df.columns = ['Country', 'Density', 'Urban Pop', 'Quarantine', 'Schools',\n",
    "#        'Public Place', 'Gathering Limit', 'Nonessential', 'Smokers', 'Hospital Beds',\n",
    "#        'sex0', 'sex14', 'sex25', 'sex54', 'sex64', 'sex65plus', 'Sex Ratio',\n",
    "#        'Lung', 'Female Lung', 'Male Lung', 'Health Exp', 'First Case',\n",
    "#        'Total Infected', 'GDP 2018', 'Crime Index', 'Population 2020',\n",
    "#        'Smoking 2016', 'Females 2018', 'Median Age', 'Total Deaths',\n",
    "#        'Total Recovered']\n",
    "\n",
    "df.head()"
   ]
  },
  {
   "cell_type": "code",
   "execution_count": 39,
   "metadata": {},
   "outputs": [
    {
     "data": {
      "text/html": [
       "<div>\n",
       "<style scoped>\n",
       "    .dataframe tbody tr th:only-of-type {\n",
       "        vertical-align: middle;\n",
       "    }\n",
       "\n",
       "    .dataframe tbody tr th {\n",
       "        vertical-align: top;\n",
       "    }\n",
       "\n",
       "    .dataframe thead th {\n",
       "        text-align: right;\n",
       "    }\n",
       "</style>\n",
       "<table border=\"1\" class=\"dataframe\">\n",
       "  <thead>\n",
       "    <tr style=\"text-align: right;\">\n",
       "      <th></th>\n",
       "      <th>Country</th>\n",
       "      <th>Median Age</th>\n",
       "      <th>GDP 2018</th>\n",
       "      <th>Crime Index</th>\n",
       "      <th>Population 2020</th>\n",
       "      <th>Smoking 2016</th>\n",
       "      <th>Females 2018</th>\n",
       "      <th>Total Infected</th>\n",
       "      <th>Total Deaths</th>\n",
       "      <th>Total Recovered</th>\n",
       "    </tr>\n",
       "  </thead>\n",
       "  <tbody>\n",
       "    <tr>\n",
       "      <th>41</th>\n",
       "      <td>India</td>\n",
       "      <td>27.9</td>\n",
       "      <td>2.718732e+12</td>\n",
       "      <td>42.38</td>\n",
       "      <td>1380004.385</td>\n",
       "      <td>11.5</td>\n",
       "      <td>48.02354</td>\n",
       "      <td>1998</td>\n",
       "      <td>58</td>\n",
       "      <td>148</td>\n",
       "    </tr>\n",
       "  </tbody>\n",
       "</table>\n",
       "</div>"
      ],
      "text/plain": [
       "   Country  Median Age      GDP 2018  Crime Index  Population 2020  \\\n",
       "41   India        27.9  2.718732e+12        42.38      1380004.385   \n",
       "\n",
       "    Smoking 2016  Females 2018  Total Infected  Total Deaths  Total Recovered  \n",
       "41          11.5      48.02354            1998            58              148  "
      ]
     },
     "execution_count": 39,
     "metadata": {},
     "output_type": "execute_result"
    }
   ],
   "source": [
    "cols = df.columns.tolist()\n",
    "total_infected_index = list(df.columns).index('Total Infected')\n",
    "cols[len(cols)-3], cols[total_infected_index] = cols[total_infected_index], cols[len(cols)-3]\n",
    "df = df[cols]\n",
    "df.head()\n",
    "df[df.Country == 'India']"
   ]
  },
  {
   "cell_type": "code",
   "execution_count": 40,
   "metadata": {},
   "outputs": [],
   "source": [
    "# df.to_csv('covid19_by_country.csv', index=False)"
   ]
  }
 ],
 "metadata": {
  "kernelspec": {
   "display_name": "Python 3",
   "language": "python",
   "name": "python3"
  },
  "language_info": {
   "codemirror_mode": {
    "name": "ipython",
    "version": 3
   },
   "file_extension": ".py",
   "mimetype": "text/x-python",
   "name": "python",
   "nbconvert_exporter": "python",
   "pygments_lexer": "ipython3",
   "version": "3.7.7"
  }
 },
 "nbformat": 4,
 "nbformat_minor": 4
}
