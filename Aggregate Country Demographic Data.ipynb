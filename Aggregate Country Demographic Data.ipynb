{
 "cells": [
  {
   "cell_type": "code",
   "execution_count": 1,
   "metadata": {},
   "outputs": [
    {
     "name": "stderr",
     "output_type": "stream",
     "text": [
      "/opt/anaconda3/lib/python3.7/site-packages/sklearn/externals/six.py:31: FutureWarning: The module is deprecated in version 0.21 and will be removed in version 0.23 since we've dropped support for Python 2.7. Please rely on the official version of six (https://pypi.org/project/six/).\n",
      "  \"(https://pypi.org/project/six/).\", FutureWarning)\n"
     ]
    }
   ],
   "source": [
    "import numpy as np\n",
    "import pandas as pd"
   ]
  },
  {
   "cell_type": "markdown",
   "metadata": {},
   "source": [
    "## Aggregate data from multiple sources"
   ]
  },
  {
   "cell_type": "markdown",
   "metadata": {},
   "source": [
    "### Johns Hopkins COVID-19 data"
   ]
  },
  {
   "cell_type": "code",
   "execution_count": 2,
   "metadata": {},
   "outputs": [],
   "source": [
    "# data cleaning and summing total events by country\n",
    "def preprocess_summation(df, description):\n",
    "    df = df.drop(['Province/State', 'Lat', 'Long'], axis=1).groupby(['Country/Region']).sum().reset_index()\n",
    "    col_name = 'Total' + ' ' + description\n",
    "    df[col_name] = df.apply(lambda r: r[-1], axis=1)\n",
    "    df = df[['Country/Region', col_name]]\n",
    "    df.columns = ['Country', col_name]\n",
    "    df.replace({'Korea, South': 'South Korea', 'Czechia': 'Czech Republic', 'Taiwan*': 'Taiwan', 'US': 'United States'}, inplace=True)\n",
    "    return df"
   ]
  },
  {
   "cell_type": "code",
   "execution_count": 3,
   "metadata": {},
   "outputs": [
    {
     "data": {
      "text/html": [
       "<div>\n",
       "<style scoped>\n",
       "    .dataframe tbody tr th:only-of-type {\n",
       "        vertical-align: middle;\n",
       "    }\n",
       "\n",
       "    .dataframe tbody tr th {\n",
       "        vertical-align: top;\n",
       "    }\n",
       "\n",
       "    .dataframe thead th {\n",
       "        text-align: right;\n",
       "    }\n",
       "</style>\n",
       "<table border=\"1\" class=\"dataframe\">\n",
       "  <thead>\n",
       "    <tr style=\"text-align: right;\">\n",
       "      <th></th>\n",
       "      <th>Country</th>\n",
       "      <th>Total Infected</th>\n",
       "    </tr>\n",
       "  </thead>\n",
       "  <tbody>\n",
       "    <tr>\n",
       "      <th>0</th>\n",
       "      <td>Afghanistan</td>\n",
       "      <td>94</td>\n",
       "    </tr>\n",
       "    <tr>\n",
       "      <th>1</th>\n",
       "      <td>Albania</td>\n",
       "      <td>174</td>\n",
       "    </tr>\n",
       "    <tr>\n",
       "      <th>2</th>\n",
       "      <td>Algeria</td>\n",
       "      <td>367</td>\n",
       "    </tr>\n",
       "    <tr>\n",
       "      <th>3</th>\n",
       "      <td>Andorra</td>\n",
       "      <td>224</td>\n",
       "    </tr>\n",
       "    <tr>\n",
       "      <th>4</th>\n",
       "      <td>Angola</td>\n",
       "      <td>4</td>\n",
       "    </tr>\n",
       "  </tbody>\n",
       "</table>\n",
       "</div>"
      ],
      "text/plain": [
       "       Country  Total Infected\n",
       "0  Afghanistan              94\n",
       "1      Albania             174\n",
       "2      Algeria             367\n",
       "3      Andorra             224\n",
       "4       Angola               4"
      ]
     },
     "execution_count": 3,
     "metadata": {},
     "output_type": "execute_result"
    }
   ],
   "source": [
    "df_confirmed = pd.read_csv('./csse_covid_19_data/csse_covid_19_time_series/time_series_covid19_confirmed_global.csv')\n",
    "total_infections = preprocess_summation(df_confirmed, 'Infected')\n",
    "total_infections.head()"
   ]
  },
  {
   "cell_type": "markdown",
   "metadata": {},
   "source": [
    "### Import 2018 GDP data\n",
    "https://data.worldbank.org/indicator/NY.GDP.MKTP.CD"
   ]
  },
  {
   "cell_type": "code",
   "execution_count": 4,
   "metadata": {},
   "outputs": [
    {
     "data": {
      "text/plain": [
       "(264, 2)"
      ]
     },
     "execution_count": 4,
     "metadata": {},
     "output_type": "execute_result"
    }
   ],
   "source": [
    "df_gdp = pd.read_csv('./outside_data/GDP.csv')\n",
    "df_gdp = df_gdp[['Country Name', '2018']]\n",
    "df_gdp.columns = ['Country', 'GDP 2018']\n",
    "df_gdp.replace({'Korea, Rep.': 'South Korea'}, inplace=True)\n",
    "df_gdp.shape"
   ]
  },
  {
   "cell_type": "code",
   "execution_count": 5,
   "metadata": {},
   "outputs": [],
   "source": [
    "df = total_infections.merge(df_gdp, how='inner', on='Country')"
   ]
  },
  {
   "cell_type": "markdown",
   "metadata": {},
   "source": [
    "### Crime and Population data\n",
    "https://worldpopulationreview.com/countries/crime-rate-by-country/"
   ]
  },
  {
   "cell_type": "code",
   "execution_count": 6,
   "metadata": {},
   "outputs": [],
   "source": [
    "df_crime = pd.read_csv('./outside_data/crime_pop.csv', header=0, names=['Country', 'Crime Index', 'Population 2020'])\n",
    "df = df.merge(df_crime, how='inner', on='Country')"
   ]
  },
  {
   "cell_type": "markdown",
   "metadata": {},
   "source": [
    "### Smoking data\n",
    "https://ourworldindata.org/smoking#prevalence-of-smoking-across-the-world  \n",
    "Percentage of country aged 15+ who smoke"
   ]
  },
  {
   "cell_type": "code",
   "execution_count": 7,
   "metadata": {},
   "outputs": [
    {
     "data": {
      "text/plain": [
       "(186, 2)"
      ]
     },
     "execution_count": 7,
     "metadata": {},
     "output_type": "execute_result"
    }
   ],
   "source": [
    "df_smoke = pd.read_csv('./outside_data/smoking.csv', header=0, names=['Country', 'Code', 'Year', 'Smoking 2016'])\n",
    "df_smoke = df_smoke[df_smoke.apply(lambda r: r['Year'] == 2016, axis=1)]\n",
    "df_smoke.drop(['Code', 'Year'], axis=1, inplace=True)\n",
    "df_smoke.shape"
   ]
  },
  {
   "cell_type": "code",
   "execution_count": 8,
   "metadata": {},
   "outputs": [],
   "source": [
    "df = df.merge(df_smoke, how='inner', on='Country')"
   ]
  },
  {
   "cell_type": "markdown",
   "metadata": {},
   "source": [
    "### Gender data\n",
    "https://data.worldbank.org/indicator/SP.POP.TOTL.FE.ZS  \n",
    "Percentage of females in 2018"
   ]
  },
  {
   "cell_type": "code",
   "execution_count": 9,
   "metadata": {},
   "outputs": [],
   "source": [
    "df_gender = pd.read_csv('./outside_data/gender.csv')\n",
    "df_gender = df_gender[['Country Name', '2018']]\n",
    "df_gender.columns = ['Country', 'Females 2018']\n",
    "df_gender.replace({'Korea, Rep.': 'South Korea'}, inplace=True)"
   ]
  },
  {
   "cell_type": "code",
   "execution_count": 10,
   "metadata": {},
   "outputs": [],
   "source": [
    "df = df.merge(df_gender, how='inner', on='Country')"
   ]
  },
  {
   "cell_type": "markdown",
   "metadata": {},
   "source": [
    "### Age data\n",
    "https://worldpopulationreview.com/countries/median-age/  \n",
    "Median age"
   ]
  },
  {
   "cell_type": "code",
   "execution_count": 11,
   "metadata": {},
   "outputs": [
    {
     "data": {
      "text/plain": [
       "(214, 2)"
      ]
     },
     "execution_count": 11,
     "metadata": {},
     "output_type": "execute_result"
    }
   ],
   "source": [
    "df_age = pd.read_csv('./outside_data/age.csv')\n",
    "df_age = df_age[['Place', 'Median']]\n",
    "df_age.columns = ['Country', 'Median Age']\n",
    "df_age.shape"
   ]
  },
  {
   "cell_type": "code",
   "execution_count": 12,
   "metadata": {},
   "outputs": [
    {
     "data": {
      "text/html": [
       "<div>\n",
       "<style scoped>\n",
       "    .dataframe tbody tr th:only-of-type {\n",
       "        vertical-align: middle;\n",
       "    }\n",
       "\n",
       "    .dataframe tbody tr th {\n",
       "        vertical-align: top;\n",
       "    }\n",
       "\n",
       "    .dataframe thead th {\n",
       "        text-align: right;\n",
       "    }\n",
       "</style>\n",
       "<table border=\"1\" class=\"dataframe\">\n",
       "  <thead>\n",
       "    <tr style=\"text-align: right;\">\n",
       "      <th></th>\n",
       "      <th>Country</th>\n",
       "      <th>Total Infected</th>\n",
       "      <th>GDP 2018</th>\n",
       "      <th>Crime Index</th>\n",
       "      <th>Population 2020</th>\n",
       "      <th>Smoking 2016</th>\n",
       "      <th>Females 2018</th>\n",
       "      <th>Median Age</th>\n",
       "    </tr>\n",
       "  </thead>\n",
       "  <tbody>\n",
       "    <tr>\n",
       "      <th>0</th>\n",
       "      <td>Albania</td>\n",
       "      <td>174</td>\n",
       "      <td>1.510250e+10</td>\n",
       "      <td>40.02</td>\n",
       "      <td>2877.797</td>\n",
       "      <td>28.7</td>\n",
       "      <td>49.063095</td>\n",
       "      <td>32.9</td>\n",
       "    </tr>\n",
       "    <tr>\n",
       "      <th>1</th>\n",
       "      <td>Algeria</td>\n",
       "      <td>367</td>\n",
       "      <td>1.737580e+11</td>\n",
       "      <td>54.41</td>\n",
       "      <td>43851.044</td>\n",
       "      <td>15.6</td>\n",
       "      <td>49.484268</td>\n",
       "      <td>28.1</td>\n",
       "    </tr>\n",
       "    <tr>\n",
       "      <th>2</th>\n",
       "      <td>Argentina</td>\n",
       "      <td>502</td>\n",
       "      <td>5.198715e+11</td>\n",
       "      <td>62.96</td>\n",
       "      <td>45195.774</td>\n",
       "      <td>21.8</td>\n",
       "      <td>51.237348</td>\n",
       "      <td>31.7</td>\n",
       "    </tr>\n",
       "    <tr>\n",
       "      <th>3</th>\n",
       "      <td>Armenia</td>\n",
       "      <td>290</td>\n",
       "      <td>1.243309e+10</td>\n",
       "      <td>20.78</td>\n",
       "      <td>2963.243</td>\n",
       "      <td>24.1</td>\n",
       "      <td>52.956577</td>\n",
       "      <td>35.1</td>\n",
       "    </tr>\n",
       "    <tr>\n",
       "      <th>4</th>\n",
       "      <td>Australia</td>\n",
       "      <td>2810</td>\n",
       "      <td>1.433904e+12</td>\n",
       "      <td>42.70</td>\n",
       "      <td>25499.884</td>\n",
       "      <td>14.7</td>\n",
       "      <td>50.199623</td>\n",
       "      <td>38.7</td>\n",
       "    </tr>\n",
       "  </tbody>\n",
       "</table>\n",
       "</div>"
      ],
      "text/plain": [
       "     Country  Total Infected      GDP 2018  Crime Index  Population 2020  \\\n",
       "0    Albania             174  1.510250e+10        40.02         2877.797   \n",
       "1    Algeria             367  1.737580e+11        54.41        43851.044   \n",
       "2  Argentina             502  5.198715e+11        62.96        45195.774   \n",
       "3    Armenia             290  1.243309e+10        20.78         2963.243   \n",
       "4  Australia            2810  1.433904e+12        42.70        25499.884   \n",
       "\n",
       "   Smoking 2016  Females 2018  Median Age  \n",
       "0          28.7     49.063095        32.9  \n",
       "1          15.6     49.484268        28.1  \n",
       "2          21.8     51.237348        31.7  \n",
       "3          24.1     52.956577        35.1  \n",
       "4          14.7     50.199623        38.7  "
      ]
     },
     "execution_count": 12,
     "metadata": {},
     "output_type": "execute_result"
    }
   ],
   "source": [
    "df = df.merge(df_age, how='inner', on='Country')\n",
    "df.head()"
   ]
  },
  {
   "cell_type": "code",
   "execution_count": 13,
   "metadata": {},
   "outputs": [],
   "source": [
    "df.to_csv('covid19.csv', index=False)"
   ]
  }
 ],
 "metadata": {
  "kernelspec": {
   "display_name": "Python 3",
   "language": "python",
   "name": "python3"
  },
  "language_info": {
   "codemirror_mode": {
    "name": "ipython",
    "version": 3
   },
   "file_extension": ".py",
   "mimetype": "text/x-python",
   "name": "python",
   "nbconvert_exporter": "python",
   "pygments_lexer": "ipython3",
   "version": "3.7.7"
  }
 },
 "nbformat": 4,
 "nbformat_minor": 4
}
